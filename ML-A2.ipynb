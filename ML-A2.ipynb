{
 "cells": [
  {
   "cell_type": "markdown",
   "id": "a193165c",
   "metadata": {},
   "source": [
    "# Machine Learning | Assignment 2"
   ]
  },
  {
   "cell_type": "markdown",
   "id": "3919660f",
   "metadata": {},
   "source": [
    "## Retireving and Preparing the Data\n",
    "\n",
    "### Importing Libraries "
   ]
  },
  {
   "cell_type": "code",
   "execution_count": 2,
   "id": "70d2e643",
   "metadata": {},
   "outputs": [],
   "source": [
    "import pandas as pd"
   ]
  },
  {
   "cell_type": "markdown",
   "id": "16bc96c8",
   "metadata": {},
   "source": [
    "### About this dataset\n",
    "\n",
    "The dataset consists of 27x27 RGB images of colon cells\n",
    "from 99 different patients.\n",
    "The purpose is to classify and identify whether given cell image represents a cancerous cells or not (isCancerous).\n",
    "And to classify cell-type, such as: fibroblast, inflammatory,\n",
    "epithelial or others.\n"
   ]
  },
  {
   "cell_type": "markdown",
   "id": "7b697672",
   "metadata": {},
   "source": [
    "## Loading the Image Classification Data set"
   ]
  },
  {
   "cell_type": "code",
   "execution_count": 10,
   "id": "25544ecd",
   "metadata": {},
   "outputs": [],
   "source": [
    "dataLabelsFrame = pd.read_csv ('Image_classification_data\\data_labels_mainData.csv')"
   ]
  },
  {
   "cell_type": "markdown",
   "id": "fb63ce3c",
   "metadata": {},
   "source": [
    "**Features Explained**\n",
    "\n",
    "- Instance ID:\n",
    "- Patient ID: The pateints unique identifier number (Integer)\n",
    "- Image Name: Name of each cell image\n",
    "- CellTypeName: Name of each cell type (string)\n",
    "- CellType: Group under which each cell classifies under (integer)\n",
    "- isCancerous: If the patient has cancerous cells or not (boolean) \n"
   ]
  },
  {
   "cell_type": "code",
   "execution_count": 11,
   "id": "b901813c",
   "metadata": {},
   "outputs": [
    {
     "data": {
      "text/html": [
       "<div>\n",
       "<style scoped>\n",
       "    .dataframe tbody tr th:only-of-type {\n",
       "        vertical-align: middle;\n",
       "    }\n",
       "\n",
       "    .dataframe tbody tr th {\n",
       "        vertical-align: top;\n",
       "    }\n",
       "\n",
       "    .dataframe thead th {\n",
       "        text-align: right;\n",
       "    }\n",
       "</style>\n",
       "<table border=\"1\" class=\"dataframe\">\n",
       "  <thead>\n",
       "    <tr style=\"text-align: right;\">\n",
       "      <th></th>\n",
       "      <th>InstanceID</th>\n",
       "      <th>patientID</th>\n",
       "      <th>ImageName</th>\n",
       "      <th>cellTypeName</th>\n",
       "      <th>cellType</th>\n",
       "      <th>isCancerous</th>\n",
       "    </tr>\n",
       "  </thead>\n",
       "  <tbody>\n",
       "    <tr>\n",
       "      <th>0</th>\n",
       "      <td>22405</td>\n",
       "      <td>1</td>\n",
       "      <td>22405.png</td>\n",
       "      <td>fibroblast</td>\n",
       "      <td>0</td>\n",
       "      <td>0</td>\n",
       "    </tr>\n",
       "    <tr>\n",
       "      <th>1</th>\n",
       "      <td>22406</td>\n",
       "      <td>1</td>\n",
       "      <td>22406.png</td>\n",
       "      <td>fibroblast</td>\n",
       "      <td>0</td>\n",
       "      <td>0</td>\n",
       "    </tr>\n",
       "    <tr>\n",
       "      <th>2</th>\n",
       "      <td>22407</td>\n",
       "      <td>1</td>\n",
       "      <td>22407.png</td>\n",
       "      <td>fibroblast</td>\n",
       "      <td>0</td>\n",
       "      <td>0</td>\n",
       "    </tr>\n",
       "    <tr>\n",
       "      <th>3</th>\n",
       "      <td>22408</td>\n",
       "      <td>1</td>\n",
       "      <td>22408.png</td>\n",
       "      <td>fibroblast</td>\n",
       "      <td>0</td>\n",
       "      <td>0</td>\n",
       "    </tr>\n",
       "    <tr>\n",
       "      <th>4</th>\n",
       "      <td>22409</td>\n",
       "      <td>1</td>\n",
       "      <td>22409.png</td>\n",
       "      <td>fibroblast</td>\n",
       "      <td>0</td>\n",
       "      <td>0</td>\n",
       "    </tr>\n",
       "    <tr>\n",
       "      <th>5</th>\n",
       "      <td>22410</td>\n",
       "      <td>1</td>\n",
       "      <td>22410.png</td>\n",
       "      <td>fibroblast</td>\n",
       "      <td>0</td>\n",
       "      <td>0</td>\n",
       "    </tr>\n",
       "    <tr>\n",
       "      <th>6</th>\n",
       "      <td>22411</td>\n",
       "      <td>1</td>\n",
       "      <td>22411.png</td>\n",
       "      <td>fibroblast</td>\n",
       "      <td>0</td>\n",
       "      <td>0</td>\n",
       "    </tr>\n",
       "    <tr>\n",
       "      <th>7</th>\n",
       "      <td>22412</td>\n",
       "      <td>1</td>\n",
       "      <td>22412.png</td>\n",
       "      <td>fibroblast</td>\n",
       "      <td>0</td>\n",
       "      <td>0</td>\n",
       "    </tr>\n",
       "    <tr>\n",
       "      <th>8</th>\n",
       "      <td>22413</td>\n",
       "      <td>1</td>\n",
       "      <td>22413.png</td>\n",
       "      <td>fibroblast</td>\n",
       "      <td>0</td>\n",
       "      <td>0</td>\n",
       "    </tr>\n",
       "    <tr>\n",
       "      <th>9</th>\n",
       "      <td>22414</td>\n",
       "      <td>1</td>\n",
       "      <td>22414.png</td>\n",
       "      <td>fibroblast</td>\n",
       "      <td>0</td>\n",
       "      <td>0</td>\n",
       "    </tr>\n",
       "  </tbody>\n",
       "</table>\n",
       "</div>"
      ],
      "text/plain": [
       "   InstanceID  patientID  ImageName cellTypeName  cellType  isCancerous\n",
       "0       22405          1  22405.png   fibroblast         0            0\n",
       "1       22406          1  22406.png   fibroblast         0            0\n",
       "2       22407          1  22407.png   fibroblast         0            0\n",
       "3       22408          1  22408.png   fibroblast         0            0\n",
       "4       22409          1  22409.png   fibroblast         0            0\n",
       "5       22410          1  22410.png   fibroblast         0            0\n",
       "6       22411          1  22411.png   fibroblast         0            0\n",
       "7       22412          1  22412.png   fibroblast         0            0\n",
       "8       22413          1  22413.png   fibroblast         0            0\n",
       "9       22414          1  22414.png   fibroblast         0            0"
      ]
     },
     "execution_count": 11,
     "metadata": {},
     "output_type": "execute_result"
    }
   ],
   "source": [
    "dataLabelsFrame.head(10)"
   ]
  },
  {
   "cell_type": "code",
   "execution_count": 13,
   "id": "df3e25f1",
   "metadata": {},
   "outputs": [
    {
     "data": {
      "text/plain": [
       "(9896, 6)"
      ]
     },
     "execution_count": 13,
     "metadata": {},
     "output_type": "execute_result"
    }
   ],
   "source": [
    "dataLabelsFrame.shape"
   ]
  },
  {
   "cell_type": "markdown",
   "id": "924ce0cc",
   "metadata": {},
   "source": [
    "There are 9896 rows in the dataset and 6 features (including the target feature)"
   ]
  },
  {
   "cell_type": "code",
   "execution_count": 17,
   "id": "17abcc6a",
   "metadata": {},
   "outputs": [
    {
     "data": {
      "text/plain": [
       "InstanceID       int64\n",
       "patientID        int64\n",
       "ImageName       object\n",
       "cellTypeName    object\n",
       "cellType         int64\n",
       "isCancerous      int64\n",
       "dtype: object"
      ]
     },
     "execution_count": 17,
     "metadata": {},
     "output_type": "execute_result"
    }
   ],
   "source": [
    "dataLabelsFrame.dtypes"
   ]
  },
  {
   "cell_type": "markdown",
   "id": "e8025da1",
   "metadata": {},
   "source": [
    "From observation the 'isCancerous' column is of type int. Observing that at any given time isCancerous can only be 1 or 0, it doesnt make much sense for it be an integer. It seems logical that isCancerous be a boolean instead so it can store either of the two states (0-cell doesnt have cancer, 1- cell is cancerous) "
   ]
  },
  {
   "cell_type": "code",
   "execution_count": 18,
   "id": "06021c5d",
   "metadata": {},
   "outputs": [
    {
     "data": {
      "text/plain": [
       "InstanceID       int64\n",
       "patientID        int64\n",
       "ImageName       object\n",
       "cellTypeName    object\n",
       "cellType         int64\n",
       "isCancerous       bool\n",
       "dtype: object"
      ]
     },
     "execution_count": 18,
     "metadata": {},
     "output_type": "execute_result"
    }
   ],
   "source": [
    "# Convert \"isCancerous\" column to Boolean\n",
    "dataLabelsFrame.isCancerous = dataLabelsFrame.isCancerous.astype('bool')\n",
    "dataLabelsFrame.dtypes"
   ]
  },
  {
   "cell_type": "markdown",
   "id": "52122c59",
   "metadata": {},
   "source": [
    "The data type is now a boolean, changing all integers to boolean. "
   ]
  },
  {
   "cell_type": "code",
   "execution_count": 20,
   "id": "36c0e737",
   "metadata": {},
   "outputs": [
    {
     "data": {
      "text/plain": [
       "dtype('bool')"
      ]
     },
     "execution_count": 20,
     "metadata": {},
     "output_type": "execute_result"
    }
   ],
   "source": [
    "dataLabelsFrame['isCancerous'].dtype"
   ]
  },
  {
   "cell_type": "code",
   "execution_count": 21,
   "id": "273aec2f",
   "metadata": {},
   "outputs": [
    {
     "data": {
      "text/html": [
       "<div>\n",
       "<style scoped>\n",
       "    .dataframe tbody tr th:only-of-type {\n",
       "        vertical-align: middle;\n",
       "    }\n",
       "\n",
       "    .dataframe tbody tr th {\n",
       "        vertical-align: top;\n",
       "    }\n",
       "\n",
       "    .dataframe thead th {\n",
       "        text-align: right;\n",
       "    }\n",
       "</style>\n",
       "<table border=\"1\" class=\"dataframe\">\n",
       "  <thead>\n",
       "    <tr style=\"text-align: right;\">\n",
       "      <th></th>\n",
       "      <th>InstanceID</th>\n",
       "      <th>patientID</th>\n",
       "      <th>cellType</th>\n",
       "    </tr>\n",
       "  </thead>\n",
       "  <tbody>\n",
       "    <tr>\n",
       "      <th>count</th>\n",
       "      <td>9896.000000</td>\n",
       "      <td>9896.000000</td>\n",
       "      <td>9896.000000</td>\n",
       "    </tr>\n",
       "    <tr>\n",
       "      <th>mean</th>\n",
       "      <td>10193.880154</td>\n",
       "      <td>29.762025</td>\n",
       "      <td>1.501516</td>\n",
       "    </tr>\n",
       "    <tr>\n",
       "      <th>std</th>\n",
       "      <td>6652.912660</td>\n",
       "      <td>17.486553</td>\n",
       "      <td>0.954867</td>\n",
       "    </tr>\n",
       "    <tr>\n",
       "      <th>min</th>\n",
       "      <td>1.000000</td>\n",
       "      <td>1.000000</td>\n",
       "      <td>0.000000</td>\n",
       "    </tr>\n",
       "    <tr>\n",
       "      <th>25%</th>\n",
       "      <td>4135.750000</td>\n",
       "      <td>14.000000</td>\n",
       "      <td>1.000000</td>\n",
       "    </tr>\n",
       "    <tr>\n",
       "      <th>50%</th>\n",
       "      <td>9279.500000</td>\n",
       "      <td>26.000000</td>\n",
       "      <td>2.000000</td>\n",
       "    </tr>\n",
       "    <tr>\n",
       "      <th>75%</th>\n",
       "      <td>16821.250000</td>\n",
       "      <td>47.000000</td>\n",
       "      <td>2.000000</td>\n",
       "    </tr>\n",
       "    <tr>\n",
       "      <th>max</th>\n",
       "      <td>22444.000000</td>\n",
       "      <td>60.000000</td>\n",
       "      <td>3.000000</td>\n",
       "    </tr>\n",
       "  </tbody>\n",
       "</table>\n",
       "</div>"
      ],
      "text/plain": [
       "         InstanceID    patientID     cellType\n",
       "count   9896.000000  9896.000000  9896.000000\n",
       "mean   10193.880154    29.762025     1.501516\n",
       "std     6652.912660    17.486553     0.954867\n",
       "min        1.000000     1.000000     0.000000\n",
       "25%     4135.750000    14.000000     1.000000\n",
       "50%     9279.500000    26.000000     2.000000\n",
       "75%    16821.250000    47.000000     2.000000\n",
       "max    22444.000000    60.000000     3.000000"
      ]
     },
     "execution_count": 21,
     "metadata": {},
     "output_type": "execute_result"
    }
   ],
   "source": [
    "dataLabelsFrame.describe()"
   ]
  },
  {
   "cell_type": "markdown",
   "id": "cbba3e52",
   "metadata": {},
   "source": [
    "### Missing values"
   ]
  },
  {
   "cell_type": "code",
   "execution_count": 22,
   "id": "028959f9",
   "metadata": {},
   "outputs": [
    {
     "data": {
      "text/plain": [
       "InstanceID      0\n",
       "patientID       0\n",
       "ImageName       0\n",
       "cellTypeName    0\n",
       "cellType        0\n",
       "isCancerous     0\n",
       "dtype: int64"
      ]
     },
     "execution_count": 22,
     "metadata": {},
     "output_type": "execute_result"
    }
   ],
   "source": [
    "dataLabelsFrame.isna().sum()"
   ]
  },
  {
   "cell_type": "markdown",
   "id": "62ee72bd",
   "metadata": {},
   "source": [
    "There are no missing values in this dataset"
   ]
  },
  {
   "cell_type": "markdown",
   "id": "d79b948f",
   "metadata": {},
   "source": [
    "## Data Exploration\n",
    "### Importing Libraries"
   ]
  },
  {
   "cell_type": "code",
   "execution_count": 23,
   "id": "7bb7888b",
   "metadata": {},
   "outputs": [],
   "source": [
    "import matplotlib.pyplot as plt\n",
    "import seaborn as sns\n",
    "import numpy as np"
   ]
  },
  {
   "cell_type": "markdown",
   "id": "d78e9007",
   "metadata": {},
   "source": [
    "Here we will explore\n",
    "- 1. cellTypeName\n",
    "- 2. cellType\n",
    "- 3. isCancerous"
   ]
  },
  {
   "cell_type": "markdown",
   "id": "f98a084b",
   "metadata": {},
   "source": [
    "### Exploring cellTypeName"
   ]
  },
  {
   "cell_type": "code",
   "execution_count": 27,
   "id": "abfb73be",
   "metadata": {},
   "outputs": [
    {
     "data": {
      "image/png": "[encoded data removed]",
      "text/plain": [
       "<Figure size 432x288 with 1 Axes>"
      ]
     },
     "metadata": {
      "needs_background": "light"
     },
     "output_type": "display_data"
    }
   ],
   "source": [
    "plt.hist(dataLabelsFrame['cellTypeName'], alpha=0.4, color='purple', density=True, rwidth = 2)\n",
    "plt.title('cellTypeName distribution')\n",
    "plt.ylabel('')\n",
    "plt.xlabel('age')\n",
    "plt.xticks(rotation='vertical')\n",
    "plt.show()"
   ]
  },
  {
   "cell_type": "markdown",
   "id": "8fa20281",
   "metadata": {},
   "source": [
    "### Observation"
   ]
  },
  {
   "cell_type": "code",
   "execution_count": null,
   "id": "f8880c93",
   "metadata": {},
   "outputs": [],
   "source": []
  }
 ],
 "metadata": {
  "kernelspec": {
   "display_name": "Python 3",
   "language": "python",
   "name": "python3"
  },
  "language_info": {
   "codemirror_mode": {
    "name": "ipython",
    "version": 3
   },
   "file_extension": ".py",
   "mimetype": "text/x-python",
   "name": "python",
   "nbconvert_exporter": "python",
   "pygments_lexer": "ipython3",
   "version": "3.8.8"
  }
 },
 "nbformat": 4,
 "nbformat_minor": 5
}
